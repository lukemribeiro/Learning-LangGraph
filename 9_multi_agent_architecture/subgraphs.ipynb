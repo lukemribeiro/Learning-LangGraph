{
 "cells": [
  {
   "cell_type": "code",
   "execution_count": 10,
   "metadata": {},
   "outputs": [],
   "source": [
    "from typing import TypedDict, Annotated\n",
    "from langgraph.graph import add_messages, StateGraph, END\n",
    "from langchain_groq import ChatGroq\n",
    "from langchain_core.messages import AIMessage, HumanMessage\n",
    "from dotenv import load_dotenv\n",
    "from langchain_community.tools.tavily_search import TavilySearchResults\n",
    "from langgraph.prebuilt import ToolNode\n",
    "\n",
    "load_dotenv()\n",
    "\n",
    "class ChildState(TypedDict):\n",
    "    messages: Annotated[list, add_messages]\n",
    "\n",
    "search_tool = TavilySearchResults(max_results=2)\n",
    "tools = [search_tool]\n",
    "\n",
    "llm = ChatGroq(model=\"llama-3.1-8b-instant\")\n",
    "\n",
    "llm_with_tools = llm.bind_tools(tools=tools)\n",
    "\n",
    "def agent(state: ChildState):\n",
    "    return {\n",
    "        \"messages\": [llm_with_tools.invoke(state[\"messages\"])], \n",
    "    }\n",
    "\n",
    "def tools_router(state: ChildState):\n",
    "    last_message = state[\"messages\"][-1]\n",
    "\n",
    "    if(hasattr(last_message, \"tool_calls\") and len(last_message.tool_calls) > 0):\n",
    "        return \"tool_node\"\n",
    "    else: \n",
    "        return \"end\"\n",
    "    \n",
    "\n",
    "tool_node = ToolNode(tools=tools)\n",
    "\n",
    "subgraph = StateGraph(ChildState)\n",
    "\n",
    "subgraph.add_node(\"agent\", agent)\n",
    "subgraph.add_node(\"tool_node\", tool_node)\n",
    "subgraph.set_entry_point(\"agent\")\n",
    "\n",
    "subgraph.add_conditional_edges(\"agent\", tools_router, {\"tool_node\": \"tool_node\", \"end\": END})\n",
    "subgraph.add_edge(\"tool_node\", \"agent\")\n",
    "\n",
    "search_app = subgraph.compile()"
   ]
  },
  {
   "cell_type": "code",
   "execution_count": 11,
   "metadata": {},
   "outputs": [
    {
     "data": {
      "image/png": "[encoded data removed]",
      "text/plain": [
       "<IPython.core.display.Image object>"
      ]
     },
     "metadata": {},
     "output_type": "display_data"
    }
   ],
   "source": [
    "from IPython.display import Image, display\n",
    "from langchain_core.runnables.graph import MermaidDrawMethod\n",
    "\n",
    "display(\n",
    "    Image(\n",
    "        search_app.get_graph().draw_mermaid_png(\n",
    "            draw_method=MermaidDrawMethod.API\n",
    "        )\n",
    "    )\n",
    ")"
   ]
  },
  {
   "cell_type": "code",
   "execution_count": 12,
   "metadata": {},
   "outputs": [
    {
     "data": {
      "text/plain": [
       "{'messages': [HumanMessage(content='How is the weather in Chennai?', additional_kwargs={}, response_metadata={}, id='71fc6a3e-4e05-4e7b-9c8e-c9ac67be2abd'),\n",
       "  AIMessage(content='', additional_kwargs={'tool_calls': [{'id': 'eg26am934', 'function': {'arguments': '{\"query\":\"Chennai weather\"}', 'name': 'tavily_search_results_json'}, 'type': 'function'}]}, response_metadata={'token_usage': {'completion_tokens': 20, 'prompt_tokens': 285, 'total_tokens': 305, 'completion_time': 0.034782857, 'prompt_time': 0.026560392, 'queue_time': 0.088925378, 'total_time': 0.061343249}, 'model_name': 'llama-3.1-8b-instant', 'system_fingerprint': 'fp_3ddc9808b3', 'service_tier': 'on_demand', 'finish_reason': 'tool_calls', 'logprobs': None}, id='run--3f39a558-b215-419e-aad5-c539678abb23-0', tool_calls=[{'name': 'tavily_search_results_json', 'args': {'query': 'Chennai weather'}, 'id': 'eg26am934', 'type': 'tool_call'}], usage_metadata={'input_tokens': 285, 'output_tokens': 20, 'total_tokens': 305}),\n",
       "  ToolMessage(content='[{\"title\": \"Weather Chennai in October 2025: Temperature & Climate\", \"url\": \"https://en.climate-data.org/asia/india/tamil-nadu/chennai-1003222/t/october-10/\", \"content\": \"In October, average humidity in Chennai ranges from 64% to 79%.\\\\nThe most humid day falls on 01.10 with 79%, while the least humid is 23.10, showing just 64%.\\\\nHumidity averages 76% in the first ten days, rises to 68% mid-month, and reaches 66% toward the end of the month.\\\\nThe most humid 10-day span occurs between days 1-10.\\\\nThe driest stretch spans days 21-31, averaging only 66%.\\\\n\\\\n## Chennai weather by month [...] |  | Temperature (°C) | (°F) | Temperature max. (°C) | (°F) | Temperature min. (°C) | (°F) | Water Temperature (°C) | (°F) | Precipitation / Rainfall (mm) | (inch.) |\\\\n ---  ---  --- |\\\\n| 1. October | 28 °C | 82 °F | 31 °C | 89 °F | 25 °C | 77 °F | 29 °C | 85 °F | 4.3 mm | 0.2 inch. |\\\\n| 2. October | 28 °C | 82 °F | 32 °C | 89 °F | 25 °C | 77 °F | 29 °C | 85 °F | 4.0 mm | 0.2 inch. |\\\\n| 3. October | 28 °C | 82 °F | 32 °C | 89 °F | 25 °C | 77 °F | 29 °C | 85 °F | 4.4 mm | 0.2 inch. | [...] Chennai sees an average temperature of 27.3°C | 81.1°F in October. Water temperatures average 29.3°C | 84.7°F in the early part of the month, around 29.5°C | 85.1°F mid-month, and about 29.3°C | 84.7°F toward the end.\", \"score\": 0.9325087}, {\"title\": \"Weather in Chennai in October 2025 (State of Tamil Nādu)\", \"url\": \"https://world-weather.info/forecast/india/chennai_1/october-2025/\", \"content\": \"Weather\\\\n Archive\\\\n Weather Widget\\\\n\\\\n World\\\\n India\\\\n State of Tamil Nādu\\\\n Weather in Chennai\\\\n\\\\n# Weather in Chennai in October 2025\\\\n\\\\nChennai Weather Forecast for October 2025, is based on previous years\\' statistical data.\\\\n\\\\nJanFebMarAprMayJunJulAugSepOctNovDec\\\\n\\\\n  \\\\n\\\\n## October\\\\n\\\\nStart Week On\\\\n\\\\nMonday\\\\n\\\\n Sun\\\\n Mon\\\\n Tue\\\\n Wed\\\\n Thu\\\\n Fri\\\\n Sat\\\\n\\\\n 1\\\\n\\\\n  +90°\\\\n\\\\n  +81°\\\\n 2\\\\n\\\\n  +90°\\\\n\\\\n  +82°\\\\n 3\\\\n\\\\n  +90°\\\\n\\\\n  +82°\\\\n 4\\\\n\\\\n  +91°\\\\n\\\\n  +82°\\\\n 5\\\\n\\\\n  +90°\\\\n\\\\n  +81°\\\\n 6\\\\n\\\\n  +90°\\\\n\\\\n  +82°\\\\n 7\\\\n\\\\n  +90°\\\\n\\\\n  +82°\\\\n 8\\\\n\\\\n  +90°\\\\n\\\\n  +82°\\\\n 9\\\\n\\\\n  +90° [...] +82°\\\\n 10\\\\n\\\\n  +88°\\\\n\\\\n  +81°\\\\n 11\\\\n\\\\n  +90°\\\\n\\\\n  +82°\\\\n 12\\\\n\\\\n  +90°\\\\n\\\\n  +82°\\\\n 13\\\\n\\\\n  +88°\\\\n\\\\n  +81°\\\\n 14\\\\n\\\\n  +88°\\\\n\\\\n  +81°\\\\n 15\\\\n\\\\n  +90°\\\\n\\\\n  +82°\\\\n 16\\\\n\\\\n  +90°\\\\n\\\\n  +82°\\\\n 17\\\\n\\\\n  +88°\\\\n\\\\n  +81°\\\\n 18\\\\n\\\\n  +86°\\\\n\\\\n  +79°\\\\n 19\\\\n\\\\n  +86°\\\\n\\\\n  +79°\\\\n 20\\\\n\\\\n  +86°\\\\n\\\\n  +79°\\\\n 21\\\\n\\\\n  +86°\\\\n\\\\n  +79°\\\\n 22\\\\n\\\\n  +86°\\\\n\\\\n  +79°\\\\n 23\\\\n\\\\n  +86°\\\\n\\\\n  +79°\\\\n 24\\\\n\\\\n  +86°\\\\n\\\\n  +79°\\\\n 25\\\\n\\\\n  +86°\\\\n\\\\n  +79°\\\\n 26\\\\n\\\\n  +86°\\\\n\\\\n  +79°\\\\n 27\\\\n\\\\n  +86°\\\\n\\\\n  +77°\\\\n 28\\\\n\\\\n  +86°\\\\n\\\\n  +79°\\\\n 29\\\\n\\\\n  +84°\\\\n\\\\n  +77°\\\\n 30\\\\n\\\\n  +84°\\\\n\\\\n  +77°\\\\n 31\\\\n\\\\n  +84°\\\\n\\\\n  +77°\\\\n\\\\n  \\\\n\\\\n## Extended weather forecast in Chennai\", \"score\": 0.8851659}]', name='tavily_search_results_json', id='e97b6fd2-4613-46d8-bb3e-3f9cbac37725', tool_call_id='eg26am934', artifact={'query': 'Chennai weather', 'follow_up_questions': None, 'answer': None, 'images': [], 'results': [{'url': 'https://en.climate-data.org/asia/india/tamil-nadu/chennai-1003222/t/october-10/', 'title': 'Weather Chennai in October 2025: Temperature & Climate', 'content': 'In October, average humidity in Chennai ranges from 64% to 79%.\\nThe most humid day falls on 01.10 with 79%, while the least humid is 23.10, showing just 64%.\\nHumidity averages 76% in the first ten days, rises to 68% mid-month, and reaches 66% toward the end of the month.\\nThe most humid 10-day span occurs between days 1-10.\\nThe driest stretch spans days 21-31, averaging only 66%.\\n\\n## Chennai weather by month [...] |  | Temperature (°C) | (°F) | Temperature max. (°C) | (°F) | Temperature min. (°C) | (°F) | Water Temperature (°C) | (°F) | Precipitation / Rainfall (mm) | (inch.) |\\n ---  ---  --- |\\n| 1. October | 28 °C | 82 °F | 31 °C | 89 °F | 25 °C | 77 °F | 29 °C | 85 °F | 4.3 mm | 0.2 inch. |\\n| 2. October | 28 °C | 82 °F | 32 °C | 89 °F | 25 °C | 77 °F | 29 °C | 85 °F | 4.0 mm | 0.2 inch. |\\n| 3. October | 28 °C | 82 °F | 32 °C | 89 °F | 25 °C | 77 °F | 29 °C | 85 °F | 4.4 mm | 0.2 inch. | [...] Chennai sees an average temperature of 27.3°C | 81.1°F in October. Water temperatures average 29.3°C | 84.7°F in the early part of the month, around 29.5°C | 85.1°F mid-month, and about 29.3°C | 84.7°F toward the end.', 'score': 0.9325087, 'raw_content': None}, {'url': 'https://world-weather.info/forecast/india/chennai_1/october-2025/', 'title': 'Weather in Chennai in October 2025 (State of Tamil Nādu)', 'content': \"Weather\\n Archive\\n Weather Widget\\n\\n World\\n India\\n State of Tamil Nādu\\n Weather in Chennai\\n\\n# Weather in Chennai in October 2025\\n\\nChennai Weather Forecast for October 2025, is based on previous years' statistical data.\\n\\nJanFebMarAprMayJunJulAugSepOctNovDec\\n\\n  \\n\\n## October\\n\\nStart Week On\\n\\nMonday\\n\\n Sun\\n Mon\\n Tue\\n Wed\\n Thu\\n Fri\\n Sat\\n\\n 1\\n\\n  +90°\\n\\n  +81°\\n 2\\n\\n  +90°\\n\\n  +82°\\n 3\\n\\n  +90°\\n\\n  +82°\\n 4\\n\\n  +91°\\n\\n  +82°\\n 5\\n\\n  +90°\\n\\n  +81°\\n 6\\n\\n  +90°\\n\\n  +82°\\n 7\\n\\n  +90°\\n\\n  +82°\\n 8\\n\\n  +90°\\n\\n  +82°\\n 9\\n\\n  +90° [...] +82°\\n 10\\n\\n  +88°\\n\\n  +81°\\n 11\\n\\n  +90°\\n\\n  +82°\\n 12\\n\\n  +90°\\n\\n  +82°\\n 13\\n\\n  +88°\\n\\n  +81°\\n 14\\n\\n  +88°\\n\\n  +81°\\n 15\\n\\n  +90°\\n\\n  +82°\\n 16\\n\\n  +90°\\n\\n  +82°\\n 17\\n\\n  +88°\\n\\n  +81°\\n 18\\n\\n  +86°\\n\\n  +79°\\n 19\\n\\n  +86°\\n\\n  +79°\\n 20\\n\\n  +86°\\n\\n  +79°\\n 21\\n\\n  +86°\\n\\n  +79°\\n 22\\n\\n  +86°\\n\\n  +79°\\n 23\\n\\n  +86°\\n\\n  +79°\\n 24\\n\\n  +86°\\n\\n  +79°\\n 25\\n\\n  +86°\\n\\n  +79°\\n 26\\n\\n  +86°\\n\\n  +79°\\n 27\\n\\n  +86°\\n\\n  +77°\\n 28\\n\\n  +86°\\n\\n  +79°\\n 29\\n\\n  +84°\\n\\n  +77°\\n 30\\n\\n  +84°\\n\\n  +77°\\n 31\\n\\n  +84°\\n\\n  +77°\\n\\n  \\n\\n## Extended weather forecast in Chennai\", 'score': 0.8851659, 'raw_content': None}], 'response_time': 4.35, 'request_id': '48ed609b-356e-4a59-8115-2dec3c583e60'}),\n",
       "  AIMessage(content='The weather in Chennai in October 2025 is expected to be warm and humid, with average temperatures ranging from 25°C to 32°C (77°F to 89°F). The humidity is expected to be around 64% to 79%. The average water temperature is expected to be around 29°C (84°F). There is a chance of precipitation, with an average of 4.3 mm (0.2 inch) of rainfall in the first week of October. The extended weather forecast shows that the temperature and humidity are expected to remain relatively consistent throughout the month.', additional_kwargs={}, response_metadata={'token_usage': {'completion_tokens': 119, 'prompt_tokens': 1522, 'total_tokens': 1641, 'completion_time': 0.243773783, 'prompt_time': 0.119585721, 'queue_time': 0.091719256, 'total_time': 0.363359504}, 'model_name': 'llama-3.1-8b-instant', 'system_fingerprint': 'fp_a7a2f9abbf', 'service_tier': 'on_demand', 'finish_reason': 'stop', 'logprobs': None}, id='run--7dc6b029-6486-4007-ba11-d2699c7fa698-0', usage_metadata={'input_tokens': 1522, 'output_tokens': 119, 'total_tokens': 1641})]}"
      ]
     },
     "execution_count": 12,
     "metadata": {},
     "output_type": "execute_result"
    }
   ],
   "source": [
    "search_app.invoke({\"messages\": [HumanMessage(content=\"How is the weather in Chennai?\")]})"
   ]
  },
  {
   "cell_type": "markdown",
   "metadata": {},
   "source": [
    "Case 1: Shared Schema (Direct Embedding)"
   ]
  },
  {
   "cell_type": "code",
   "execution_count": 13,
   "metadata": {},
   "outputs": [
    {
     "data": {
      "text/plain": [
       "{'messages': [HumanMessage(content='How is the weather in Chennai?', additional_kwargs={}, response_metadata={}, id='b9e0dd99-e0e4-47ef-bcc4-940dfef260cc'),\n",
       "  AIMessage(content='', additional_kwargs={'tool_calls': [{'id': '4ch55dpyc', 'function': {'arguments': '{\"query\":\"Chennai weather\"}', 'name': 'tavily_search_results_json'}, 'type': 'function'}]}, response_metadata={'token_usage': {'completion_tokens': 20, 'prompt_tokens': 285, 'total_tokens': 305, 'completion_time': 0.032738399, 'prompt_time': 0.019080903, 'queue_time': 0.090979044, 'total_time': 0.051819302}, 'model_name': 'llama-3.1-8b-instant', 'system_fingerprint': 'fp_50a6be1b6f', 'service_tier': 'on_demand', 'finish_reason': 'tool_calls', 'logprobs': None}, id='run--c5ca09b5-47fb-49ce-9647-62932e0833d9-0', tool_calls=[{'name': 'tavily_search_results_json', 'args': {'query': 'Chennai weather'}, 'id': '4ch55dpyc', 'type': 'tool_call'}], usage_metadata={'input_tokens': 285, 'output_tokens': 20, 'total_tokens': 305}),\n",
       "  ToolMessage(content='[{\"title\": \"Weather Chennai in October 2025: Temperature & Climate\", \"url\": \"https://en.climate-data.org/asia/india/tamil-nadu/chennai-1003222/t/october-10/\", \"content\": \"In October, average humidity in Chennai ranges from 64% to 79%.\\\\nThe most humid day falls on 01.10 with 79%, while the least humid is 23.10, showing just 64%.\\\\nHumidity averages 76% in the first ten days, rises to 68% mid-month, and reaches 66% toward the end of the month.\\\\nThe most humid 10-day span occurs between days 1-10.\\\\nThe driest stretch spans days 21-31, averaging only 66%.\\\\n\\\\n## Chennai weather by month [...] |  | Temperature (°C) | (°F) | Temperature max. (°C) | (°F) | Temperature min. (°C) | (°F) | Water Temperature (°C) | (°F) | Precipitation / Rainfall (mm) | (inch.) |\\\\n ---  ---  --- |\\\\n| 1. October | 28 °C | 82 °F | 31 °C | 89 °F | 25 °C | 77 °F | 29 °C | 85 °F | 4.3 mm | 0.2 inch. |\\\\n| 2. October | 28 °C | 82 °F | 32 °C | 89 °F | 25 °C | 77 °F | 29 °C | 85 °F | 4.0 mm | 0.2 inch. |\\\\n| 3. October | 28 °C | 82 °F | 32 °C | 89 °F | 25 °C | 77 °F | 29 °C | 85 °F | 4.4 mm | 0.2 inch. | [...] Chennai sees an average temperature of 27.3°C | 81.1°F in October. Water temperatures average 29.3°C | 84.7°F in the early part of the month, around 29.5°C | 85.1°F mid-month, and about 29.3°C | 84.7°F toward the end.\", \"score\": 0.9325087}, {\"title\": \"Weather in Chennai in October 2025 (State of Tamil Nādu)\", \"url\": \"https://world-weather.info/forecast/india/chennai_1/october-2025/\", \"content\": \"Weather\\\\n Archive\\\\n Weather Widget\\\\n\\\\n World\\\\n India\\\\n State of Tamil Nādu\\\\n Weather in Chennai\\\\n\\\\n# Weather in Chennai in October 2025\\\\n\\\\nChennai Weather Forecast for October 2025, is based on previous years\\' statistical data.\\\\n\\\\nJanFebMarAprMayJunJulAugSepOctNovDec\\\\n\\\\n  \\\\n\\\\n## October\\\\n\\\\nStart Week On\\\\n\\\\nMonday\\\\n\\\\n Sun\\\\n Mon\\\\n Tue\\\\n Wed\\\\n Thu\\\\n Fri\\\\n Sat\\\\n\\\\n 1\\\\n\\\\n  +90°\\\\n\\\\n  +81°\\\\n 2\\\\n\\\\n  +90°\\\\n\\\\n  +82°\\\\n 3\\\\n\\\\n  +90°\\\\n\\\\n  +82°\\\\n 4\\\\n\\\\n  +91°\\\\n\\\\n  +82°\\\\n 5\\\\n\\\\n  +90°\\\\n\\\\n  +81°\\\\n 6\\\\n\\\\n  +90°\\\\n\\\\n  +82°\\\\n 7\\\\n\\\\n  +90°\\\\n\\\\n  +82°\\\\n 8\\\\n\\\\n  +90°\\\\n\\\\n  +82°\\\\n 9\\\\n\\\\n  +90° [...] +82°\\\\n 10\\\\n\\\\n  +88°\\\\n\\\\n  +81°\\\\n 11\\\\n\\\\n  +90°\\\\n\\\\n  +82°\\\\n 12\\\\n\\\\n  +90°\\\\n\\\\n  +82°\\\\n 13\\\\n\\\\n  +88°\\\\n\\\\n  +81°\\\\n 14\\\\n\\\\n  +88°\\\\n\\\\n  +81°\\\\n 15\\\\n\\\\n  +90°\\\\n\\\\n  +82°\\\\n 16\\\\n\\\\n  +90°\\\\n\\\\n  +82°\\\\n 17\\\\n\\\\n  +88°\\\\n\\\\n  +81°\\\\n 18\\\\n\\\\n  +86°\\\\n\\\\n  +79°\\\\n 19\\\\n\\\\n  +86°\\\\n\\\\n  +79°\\\\n 20\\\\n\\\\n  +86°\\\\n\\\\n  +79°\\\\n 21\\\\n\\\\n  +86°\\\\n\\\\n  +79°\\\\n 22\\\\n\\\\n  +86°\\\\n\\\\n  +79°\\\\n 23\\\\n\\\\n  +86°\\\\n\\\\n  +79°\\\\n 24\\\\n\\\\n  +86°\\\\n\\\\n  +79°\\\\n 25\\\\n\\\\n  +86°\\\\n\\\\n  +79°\\\\n 26\\\\n\\\\n  +86°\\\\n\\\\n  +79°\\\\n 27\\\\n\\\\n  +86°\\\\n\\\\n  +77°\\\\n 28\\\\n\\\\n  +86°\\\\n\\\\n  +79°\\\\n 29\\\\n\\\\n  +84°\\\\n\\\\n  +77°\\\\n 30\\\\n\\\\n  +84°\\\\n\\\\n  +77°\\\\n 31\\\\n\\\\n  +84°\\\\n\\\\n  +77°\\\\n\\\\n  \\\\n\\\\n## Extended weather forecast in Chennai\", \"score\": 0.8851659}]', name='tavily_search_results_json', id='61920bbf-e76b-41d2-88aa-9fb07c8ce121', tool_call_id='4ch55dpyc', artifact={'query': 'Chennai weather', 'follow_up_questions': None, 'answer': None, 'images': [], 'results': [{'url': 'https://en.climate-data.org/asia/india/tamil-nadu/chennai-1003222/t/october-10/', 'title': 'Weather Chennai in October 2025: Temperature & Climate', 'content': 'In October, average humidity in Chennai ranges from 64% to 79%.\\nThe most humid day falls on 01.10 with 79%, while the least humid is 23.10, showing just 64%.\\nHumidity averages 76% in the first ten days, rises to 68% mid-month, and reaches 66% toward the end of the month.\\nThe most humid 10-day span occurs between days 1-10.\\nThe driest stretch spans days 21-31, averaging only 66%.\\n\\n## Chennai weather by month [...] |  | Temperature (°C) | (°F) | Temperature max. (°C) | (°F) | Temperature min. (°C) | (°F) | Water Temperature (°C) | (°F) | Precipitation / Rainfall (mm) | (inch.) |\\n ---  ---  --- |\\n| 1. October | 28 °C | 82 °F | 31 °C | 89 °F | 25 °C | 77 °F | 29 °C | 85 °F | 4.3 mm | 0.2 inch. |\\n| 2. October | 28 °C | 82 °F | 32 °C | 89 °F | 25 °C | 77 °F | 29 °C | 85 °F | 4.0 mm | 0.2 inch. |\\n| 3. October | 28 °C | 82 °F | 32 °C | 89 °F | 25 °C | 77 °F | 29 °C | 85 °F | 4.4 mm | 0.2 inch. | [...] Chennai sees an average temperature of 27.3°C | 81.1°F in October. Water temperatures average 29.3°C | 84.7°F in the early part of the month, around 29.5°C | 85.1°F mid-month, and about 29.3°C | 84.7°F toward the end.', 'score': 0.9325087, 'raw_content': None}, {'url': 'https://world-weather.info/forecast/india/chennai_1/october-2025/', 'title': 'Weather in Chennai in October 2025 (State of Tamil Nādu)', 'content': \"Weather\\n Archive\\n Weather Widget\\n\\n World\\n India\\n State of Tamil Nādu\\n Weather in Chennai\\n\\n# Weather in Chennai in October 2025\\n\\nChennai Weather Forecast for October 2025, is based on previous years' statistical data.\\n\\nJanFebMarAprMayJunJulAugSepOctNovDec\\n\\n  \\n\\n## October\\n\\nStart Week On\\n\\nMonday\\n\\n Sun\\n Mon\\n Tue\\n Wed\\n Thu\\n Fri\\n Sat\\n\\n 1\\n\\n  +90°\\n\\n  +81°\\n 2\\n\\n  +90°\\n\\n  +82°\\n 3\\n\\n  +90°\\n\\n  +82°\\n 4\\n\\n  +91°\\n\\n  +82°\\n 5\\n\\n  +90°\\n\\n  +81°\\n 6\\n\\n  +90°\\n\\n  +82°\\n 7\\n\\n  +90°\\n\\n  +82°\\n 8\\n\\n  +90°\\n\\n  +82°\\n 9\\n\\n  +90° [...] +82°\\n 10\\n\\n  +88°\\n\\n  +81°\\n 11\\n\\n  +90°\\n\\n  +82°\\n 12\\n\\n  +90°\\n\\n  +82°\\n 13\\n\\n  +88°\\n\\n  +81°\\n 14\\n\\n  +88°\\n\\n  +81°\\n 15\\n\\n  +90°\\n\\n  +82°\\n 16\\n\\n  +90°\\n\\n  +82°\\n 17\\n\\n  +88°\\n\\n  +81°\\n 18\\n\\n  +86°\\n\\n  +79°\\n 19\\n\\n  +86°\\n\\n  +79°\\n 20\\n\\n  +86°\\n\\n  +79°\\n 21\\n\\n  +86°\\n\\n  +79°\\n 22\\n\\n  +86°\\n\\n  +79°\\n 23\\n\\n  +86°\\n\\n  +79°\\n 24\\n\\n  +86°\\n\\n  +79°\\n 25\\n\\n  +86°\\n\\n  +79°\\n 26\\n\\n  +86°\\n\\n  +79°\\n 27\\n\\n  +86°\\n\\n  +77°\\n 28\\n\\n  +86°\\n\\n  +79°\\n 29\\n\\n  +84°\\n\\n  +77°\\n 30\\n\\n  +84°\\n\\n  +77°\\n 31\\n\\n  +84°\\n\\n  +77°\\n\\n  \\n\\n## Extended weather forecast in Chennai\", 'score': 0.8851659, 'raw_content': None}], 'response_time': 0.98, 'request_id': '8c0506c1-2605-418a-9cbc-d3000a1cea96'}),\n",
       "  AIMessage(content='The weather in Chennai in October 2025 is expected to be warm and humid, with an average temperature of 27.3°C (81.1°F). The humidity is expected to range from 64% to 79%, with the most humid day falling on October 1st with 79% humidity. The water temperature is expected to average around 29.3°C (84.7°F) throughout the month. There is a chance of precipitation, with an average of 4.3 mm (0.2 inch) of rainfall in the first week of October.', additional_kwargs={}, response_metadata={'token_usage': {'completion_tokens': 119, 'prompt_tokens': 1522, 'total_tokens': 1641, 'completion_time': 0.287332066, 'prompt_time': 0.087933092, 'queue_time': 0.092165457, 'total_time': 0.375265158}, 'model_name': 'llama-3.1-8b-instant', 'system_fingerprint': 'fp_50a6be1b6f', 'service_tier': 'on_demand', 'finish_reason': 'stop', 'logprobs': None}, id='run--fb8b36ea-3b1b-4d46-85e0-9f24d239ed51-0', usage_metadata={'input_tokens': 1522, 'output_tokens': 119, 'total_tokens': 1641})]}"
      ]
     },
     "execution_count": 13,
     "metadata": {},
     "output_type": "execute_result"
    }
   ],
   "source": [
    "from typing import TypedDict, Annotated\n",
    "from langgraph.graph import add_messages, StateGraph, START, END\n",
    "from langchain_core.messages import HumanMessage\n",
    "\n",
    "# Define parent graph with the same schema\n",
    "class ParentState(TypedDict):\n",
    "    messages: Annotated[list, add_messages]\n",
    "\n",
    "# Create parent graph\n",
    "parent_graph = StateGraph(ParentState)\n",
    "\n",
    "# Add the subgraph as a node\n",
    "parent_graph.add_node(\"search_agent\", search_app)\n",
    "\n",
    "# Connect the flow\n",
    "parent_graph.add_edge(START, \"search_agent\")\n",
    "parent_graph.add_edge(\"search_agent\", END)\n",
    "\n",
    "# Compile parent graph\n",
    "parent_app = parent_graph.compile()\n",
    "\n",
    "# Run the parent graph\n",
    "result = parent_app.invoke({\"messages\": [HumanMessage(content=\"How is the weather in Chennai?\")]})\n",
    "result"
   ]
  },
  {
   "cell_type": "markdown",
   "metadata": {},
   "source": [
    "Case 2: Different Schema (Invoke with Transformation)"
   ]
  },
  {
   "cell_type": "code",
   "execution_count": 15,
   "metadata": {},
   "outputs": [
    {
     "name": "stdout",
     "output_type": "stream",
     "text": [
      "{'query': 'How is the weather in Chennai?', 'response': 'The current weather in Chennai is mostly cloudy with temperatures ranging from 27°C to 32°C. There is a possibility of rain for approximately half of the month, with around 8 to 15 days expected to see rain. It is advised to drink plenty of water due to the high temperatures.'}\n"
     ]
    }
   ],
   "source": [
    "from typing import TypedDict, Annotated, Dict\n",
    "from langgraph.graph import StateGraph, START, END\n",
    "from langchain_core.messages import HumanMessage\n",
    "\n",
    "# Define parent graph with different schema\n",
    "class QueryState(TypedDict):\n",
    "    query: str\n",
    "    response: str\n",
    "\n",
    "# Function to invoke subgraph\n",
    "def search_agent(state: QueryState) -> Dict:\n",
    "    # Transform from parent schema to subgraph schema\n",
    "    subgraph_input = {\n",
    "        \"messages\": [HumanMessage(content=state[\"query\"])]\n",
    "    }\n",
    "    \n",
    "    # Invoke the subgraph\n",
    "    subgraph_result = search_app.invoke(subgraph_input)\n",
    "    \n",
    "    # Transform response back to parent schema\n",
    "    assistant_message = subgraph_result[\"messages\"][-1]\n",
    "    return {\"response\": assistant_message.content}\n",
    "\n",
    "# Create parent graph\n",
    "parent_graph = StateGraph(QueryState)\n",
    "\n",
    "# Add transformation node that invokes subgraph\n",
    "parent_graph.add_node(\"search_agent\", search_agent)\n",
    "\n",
    "# Connect the flow\n",
    "parent_graph.add_edge(START, \"search_agent\")\n",
    "parent_graph.add_edge(\"search_agent\", END)\n",
    "\n",
    "# Compile parent graph\n",
    "parent_app = parent_graph.compile()\n",
    "\n",
    "# Run the parent graph\n",
    "result = parent_app.invoke({\"query\": \"How is the weather in Chennai?\", \"response\": \"\"})\n",
    "print(result)"
   ]
  },
  {
   "cell_type": "code",
   "execution_count": null,
   "metadata": {},
   "outputs": [],
   "source": []
  }
 ],
 "metadata": {
  "kernelspec": {
   "display_name": ".venv",
   "language": "python",
   "name": "python3"
  },
  "language_info": {
   "codemirror_mode": {
    "name": "ipython",
    "version": 3
   },
   "file_extension": ".py",
   "mimetype": "text/x-python",
   "name": "python",
   "nbconvert_exporter": "python",
   "pygments_lexer": "ipython3",
   "version": "3.11.8"
  }
 },
 "nbformat": 4,
 "nbformat_minor": 2
}
